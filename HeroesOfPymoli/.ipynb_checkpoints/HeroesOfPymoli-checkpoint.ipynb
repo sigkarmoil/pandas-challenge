{
 "cells": [
  {
   "cell_type": "code",
   "execution_count": 202,
   "metadata": {},
   "outputs": [
    {
     "data": {
      "text/html": [
       "<div>\n",
       "<style scoped>\n",
       "    .dataframe tbody tr th:only-of-type {\n",
       "        vertical-align: middle;\n",
       "    }\n",
       "\n",
       "    .dataframe tbody tr th {\n",
       "        vertical-align: top;\n",
       "    }\n",
       "\n",
       "    .dataframe thead th {\n",
       "        text-align: right;\n",
       "    }\n",
       "</style>\n",
       "<table border=\"1\" class=\"dataframe\">\n",
       "  <thead>\n",
       "    <tr style=\"text-align: right;\">\n",
       "      <th></th>\n",
       "      <th>Purchase ID</th>\n",
       "      <th>SN</th>\n",
       "      <th>Age</th>\n",
       "      <th>Gender</th>\n",
       "      <th>Item ID</th>\n",
       "      <th>Item Name</th>\n",
       "      <th>Price</th>\n",
       "    </tr>\n",
       "  </thead>\n",
       "  <tbody>\n",
       "    <tr>\n",
       "      <td>0</td>\n",
       "      <td>0</td>\n",
       "      <td>Lisim78</td>\n",
       "      <td>20</td>\n",
       "      <td>Male</td>\n",
       "      <td>108</td>\n",
       "      <td>Extraction, Quickblade Of Trembling Hands</td>\n",
       "      <td>3.53</td>\n",
       "    </tr>\n",
       "    <tr>\n",
       "      <td>1</td>\n",
       "      <td>1</td>\n",
       "      <td>Lisovynya38</td>\n",
       "      <td>40</td>\n",
       "      <td>Male</td>\n",
       "      <td>143</td>\n",
       "      <td>Frenzied Scimitar</td>\n",
       "      <td>1.56</td>\n",
       "    </tr>\n",
       "    <tr>\n",
       "      <td>2</td>\n",
       "      <td>2</td>\n",
       "      <td>Ithergue48</td>\n",
       "      <td>24</td>\n",
       "      <td>Male</td>\n",
       "      <td>92</td>\n",
       "      <td>Final Critic</td>\n",
       "      <td>4.88</td>\n",
       "    </tr>\n",
       "    <tr>\n",
       "      <td>3</td>\n",
       "      <td>3</td>\n",
       "      <td>Chamassasya86</td>\n",
       "      <td>24</td>\n",
       "      <td>Male</td>\n",
       "      <td>100</td>\n",
       "      <td>Blindscythe</td>\n",
       "      <td>3.27</td>\n",
       "    </tr>\n",
       "    <tr>\n",
       "      <td>4</td>\n",
       "      <td>4</td>\n",
       "      <td>Iskosia90</td>\n",
       "      <td>23</td>\n",
       "      <td>Male</td>\n",
       "      <td>131</td>\n",
       "      <td>Fury</td>\n",
       "      <td>1.44</td>\n",
       "    </tr>\n",
       "  </tbody>\n",
       "</table>\n",
       "</div>"
      ],
      "text/plain": [
       "   Purchase ID             SN  Age Gender  Item ID  \\\n",
       "0            0        Lisim78   20   Male      108   \n",
       "1            1    Lisovynya38   40   Male      143   \n",
       "2            2     Ithergue48   24   Male       92   \n",
       "3            3  Chamassasya86   24   Male      100   \n",
       "4            4      Iskosia90   23   Male      131   \n",
       "\n",
       "                                   Item Name  Price  \n",
       "0  Extraction, Quickblade Of Trembling Hands   3.53  \n",
       "1                          Frenzied Scimitar   1.56  \n",
       "2                               Final Critic   4.88  \n",
       "3                                Blindscythe   3.27  \n",
       "4                                       Fury   1.44  "
      ]
     },
     "execution_count": 202,
     "metadata": {},
     "output_type": "execute_result"
    }
   ],
   "source": [
    "import pandas as pd\n",
    "import numpy as np\n",
    "filepath = (r\"Resources\\purchase_data.csv\")\n",
    "\n",
    "pymoli = pd.read_csv(filepath)\n",
    "\n",
    "pymoli.head()"
   ]
  },
  {
   "cell_type": "code",
   "execution_count": 203,
   "metadata": {},
   "outputs": [
    {
     "name": "stdout",
     "output_type": "stream",
     "text": [
      "Purchasing Analysis \n",
      "---------------------------------\n",
      "Number of Unique Items\n"
     ]
    },
    {
     "data": {
      "text/plain": [
       "179"
      ]
     },
     "execution_count": 203,
     "metadata": {},
     "output_type": "execute_result"
    }
   ],
   "source": [
    "print(\"Purchasing Analysis \\n---------------------------------\")\n",
    "print(\"Number of Unique Items\")\n",
    "unique_item = pymoli[\"Item Name\"].unique()\n",
    "np.count_nonzero(unique_item)"
   ]
  },
  {
   "cell_type": "code",
   "execution_count": 204,
   "metadata": {},
   "outputs": [
    {
     "name": "stdout",
     "output_type": "stream",
     "text": [
      "Average Purchase Price\n"
     ]
    },
    {
     "data": {
      "text/plain": [
       "3.050987179487176"
      ]
     },
     "execution_count": 204,
     "metadata": {},
     "output_type": "execute_result"
    }
   ],
   "source": [
    "print(\"Average Purchase Price\")\n",
    "unique_item = pymoli[\"Price\"].mean()\n",
    "unique_item"
   ]
  },
  {
   "cell_type": "code",
   "execution_count": 205,
   "metadata": {},
   "outputs": [
    {
     "name": "stdout",
     "output_type": "stream",
     "text": [
      "Total Number of Purchases\n"
     ]
    },
    {
     "data": {
      "text/plain": [
       "780"
      ]
     },
     "execution_count": 205,
     "metadata": {},
     "output_type": "execute_result"
    }
   ],
   "source": [
    "print(\"Total Number of Purchases\")\n",
    "Purchase_Count = pymoli[\"Purchase ID\"].count()\n",
    "Purchase_Count"
   ]
  },
  {
   "cell_type": "code",
   "execution_count": 206,
   "metadata": {},
   "outputs": [
    {
     "name": "stdout",
     "output_type": "stream",
     "text": [
      "Purchasing Analysis \n",
      "---------------------------------\n",
      "Number of Unique Items\n",
      "Total Revenue\n"
     ]
    },
    {
     "data": {
      "text/plain": [
       "2379.77"
      ]
     },
     "execution_count": 206,
     "metadata": {},
     "output_type": "execute_result"
    }
   ],
   "source": [
    "print(\"Purchasing Analysis \\n---------------------------------\")\n",
    "print(\"Number of Unique Items\")\n",
    "np.count_nonzero(unique_item)\n",
    "\n",
    "\n",
    "print(\"Total Revenue\")\n",
    "Total_Revenue = pymoli[\"Price\"].sum()\n",
    "Total_Revenue"
   ]
  },
  {
   "cell_type": "code",
   "execution_count": 207,
   "metadata": {},
   "outputs": [
    {
     "name": "stdout",
     "output_type": "stream",
     "text": [
      "Gender Demographics\n",
      "---------------------------------------\n"
     ]
    },
    {
     "data": {
      "text/html": [
       "<div>\n",
       "<style scoped>\n",
       "    .dataframe tbody tr th:only-of-type {\n",
       "        vertical-align: middle;\n",
       "    }\n",
       "\n",
       "    .dataframe tbody tr th {\n",
       "        vertical-align: top;\n",
       "    }\n",
       "\n",
       "    .dataframe thead th {\n",
       "        text-align: right;\n",
       "    }\n",
       "</style>\n",
       "<table border=\"1\" class=\"dataframe\">\n",
       "  <thead>\n",
       "    <tr style=\"text-align: right;\">\n",
       "      <th></th>\n",
       "      <th>Gender Count</th>\n",
       "      <th>Gender Percentage</th>\n",
       "    </tr>\n",
       "  </thead>\n",
       "  <tbody>\n",
       "    <tr>\n",
       "      <td>Male</td>\n",
       "      <td>652</td>\n",
       "      <td>0.835897</td>\n",
       "    </tr>\n",
       "    <tr>\n",
       "      <td>Female</td>\n",
       "      <td>113</td>\n",
       "      <td>0.144872</td>\n",
       "    </tr>\n",
       "    <tr>\n",
       "      <td>Other / Non-Disclosed</td>\n",
       "      <td>15</td>\n",
       "      <td>0.019231</td>\n",
       "    </tr>\n",
       "  </tbody>\n",
       "</table>\n",
       "</div>"
      ],
      "text/plain": [
       "                       Gender Count  Gender Percentage\n",
       "Male                            652           0.835897\n",
       "Female                          113           0.144872\n",
       "Other / Non-Disclosed            15           0.019231"
      ]
     },
     "execution_count": 207,
     "metadata": {},
     "output_type": "execute_result"
    }
   ],
   "source": [
    "print(\"Gender Demographics\" )\n",
    "print(\"---------------------------------------\" )\n",
    "gender_count = pymoli[\"Gender\"].value_counts()\n",
    "gender_pct = pymoli[\"Gender\"].value_counts(normalize=True)\n",
    "gender_frame={'Gender Count':gender_count ,'Gender Percentage': gender_pct }\n",
    "gender_df=pd.DataFrame(gender_frame)\n",
    "gender_df"
   ]
  },
  {
   "cell_type": "code",
   "execution_count": 208,
   "metadata": {},
   "outputs": [
    {
     "name": "stdout",
     "output_type": "stream",
     "text": [
      "Purchasing Analysis (Gender)\n",
      "---------------------------------------\n"
     ]
    },
    {
     "data": {
      "text/html": [
       "<div>\n",
       "<style scoped>\n",
       "    .dataframe tbody tr th:only-of-type {\n",
       "        vertical-align: middle;\n",
       "    }\n",
       "\n",
       "    .dataframe tbody tr th {\n",
       "        vertical-align: top;\n",
       "    }\n",
       "\n",
       "    .dataframe thead tr th {\n",
       "        text-align: left;\n",
       "    }\n",
       "\n",
       "    .dataframe thead tr:last-of-type th {\n",
       "        text-align: right;\n",
       "    }\n",
       "</style>\n",
       "<table border=\"1\" class=\"dataframe\">\n",
       "  <thead>\n",
       "    <tr>\n",
       "      <th></th>\n",
       "      <th>Item ID</th>\n",
       "      <th colspan=\"2\" halign=\"left\">Price</th>\n",
       "      <th>Purchase ID</th>\n",
       "    </tr>\n",
       "    <tr>\n",
       "      <th></th>\n",
       "      <th>nunique</th>\n",
       "      <th>mean</th>\n",
       "      <th>sum</th>\n",
       "      <th>count_nonzero</th>\n",
       "    </tr>\n",
       "    <tr>\n",
       "      <th>Gender</th>\n",
       "      <th></th>\n",
       "      <th></th>\n",
       "      <th></th>\n",
       "      <th></th>\n",
       "    </tr>\n",
       "  </thead>\n",
       "  <tbody>\n",
       "    <tr>\n",
       "      <td>Female</td>\n",
       "      <td>90</td>\n",
       "      <td>3.203009</td>\n",
       "      <td>361.94</td>\n",
       "      <td>113</td>\n",
       "    </tr>\n",
       "    <tr>\n",
       "      <td>Male</td>\n",
       "      <td>178</td>\n",
       "      <td>3.017853</td>\n",
       "      <td>1967.64</td>\n",
       "      <td>651</td>\n",
       "    </tr>\n",
       "    <tr>\n",
       "      <td>Other / Non-Disclosed</td>\n",
       "      <td>13</td>\n",
       "      <td>3.346000</td>\n",
       "      <td>50.19</td>\n",
       "      <td>15</td>\n",
       "    </tr>\n",
       "  </tbody>\n",
       "</table>\n",
       "</div>"
      ],
      "text/plain": [
       "                      Item ID     Price            Purchase ID\n",
       "                      nunique      mean      sum count_nonzero\n",
       "Gender                                                        \n",
       "Female                     90  3.203009   361.94           113\n",
       "Male                      178  3.017853  1967.64           651\n",
       "Other / Non-Disclosed      13  3.346000    50.19            15"
      ]
     },
     "execution_count": 208,
     "metadata": {},
     "output_type": "execute_result"
    }
   ],
   "source": [
    "print(\"Purchasing Analysis (Gender)\" )\n",
    "print(\"---------------------------------------\" )\n",
    "gender_purchase_anls=pd.pivot_table(pymoli, index=['Gender'], values=['Purchase ID','Price', 'Item ID' ],\n",
    "                                    aggfunc={'Purchase ID':np.count_nonzero,\n",
    "                                            'Price':[np.mean, sum],\n",
    "                                             'Item ID':pd.Series.nunique })\n",
    "gender_purchase_anls"
   ]
  },
  {
   "cell_type": "code",
   "execution_count": 250,
   "metadata": {},
   "outputs": [
    {
     "data": {
      "text/plain": [
       "Gender\n",
       "Female                    81\n",
       "Male                     484\n",
       "Other / Non-Disclosed     11\n",
       "Name: SN, dtype: int64"
      ]
     },
     "execution_count": 250,
     "metadata": {},
     "output_type": "execute_result"
    }
   ],
   "source": [
    "\n",
    "purchase_count = pymoli.groupby(['Gender']).count()\n",
    "gender_mean = pymoli.groupby(['Gender']).mean()\n",
    "sum_purchase = pymoli.groupby(['Gender']).sum()\n",
    "unq_player_gender=pymoli.groupby(['Gender'])['SN'].nunique()\n",
    "avg_purchase_per_person = sum_purchase['Price']/unq_player_gender\n",
    "\n",
    "unq_player_gender\n"
   ]
  },
  {
   "cell_type": "code",
   "execution_count": 251,
   "metadata": {},
   "outputs": [
    {
     "name": "stdout",
     "output_type": "stream",
     "text": [
      "Purchasing Analysis (Gender)\n",
      "---------------------------------------\n"
     ]
    },
    {
     "data": {
      "text/html": [
       "<div>\n",
       "<style scoped>\n",
       "    .dataframe tbody tr th:only-of-type {\n",
       "        vertical-align: middle;\n",
       "    }\n",
       "\n",
       "    .dataframe tbody tr th {\n",
       "        vertical-align: top;\n",
       "    }\n",
       "\n",
       "    .dataframe thead th {\n",
       "        text-align: right;\n",
       "    }\n",
       "</style>\n",
       "<table border=\"1\" class=\"dataframe\">\n",
       "  <thead>\n",
       "    <tr style=\"text-align: right;\">\n",
       "      <th></th>\n",
       "      <th>Purchase Count</th>\n",
       "      <th>Average Purchase Price</th>\n",
       "      <th>Total Purchase Value</th>\n",
       "      <th>Average Purchase Total per Person by Age Group</th>\n",
       "    </tr>\n",
       "    <tr>\n",
       "      <th>Gender</th>\n",
       "      <th></th>\n",
       "      <th></th>\n",
       "      <th></th>\n",
       "      <th></th>\n",
       "    </tr>\n",
       "  </thead>\n",
       "  <tbody>\n",
       "    <tr>\n",
       "      <td>Female</td>\n",
       "      <td>113</td>\n",
       "      <td>3.203009</td>\n",
       "      <td>361.94</td>\n",
       "      <td>4.468395</td>\n",
       "    </tr>\n",
       "    <tr>\n",
       "      <td>Male</td>\n",
       "      <td>652</td>\n",
       "      <td>3.017853</td>\n",
       "      <td>1967.64</td>\n",
       "      <td>4.065372</td>\n",
       "    </tr>\n",
       "    <tr>\n",
       "      <td>Other / Non-Disclosed</td>\n",
       "      <td>15</td>\n",
       "      <td>3.346000</td>\n",
       "      <td>50.19</td>\n",
       "      <td>4.562727</td>\n",
       "    </tr>\n",
       "  </tbody>\n",
       "</table>\n",
       "</div>"
      ],
      "text/plain": [
       "                       Purchase Count  Average Purchase Price  \\\n",
       "Gender                                                          \n",
       "Female                            113                3.203009   \n",
       "Male                              652                3.017853   \n",
       "Other / Non-Disclosed              15                3.346000   \n",
       "\n",
       "                       Total Purchase Value  \\\n",
       "Gender                                        \n",
       "Female                               361.94   \n",
       "Male                                1967.64   \n",
       "Other / Non-Disclosed                 50.19   \n",
       "\n",
       "                       Average Purchase Total per Person by Age Group  \n",
       "Gender                                                                 \n",
       "Female                                                       4.468395  \n",
       "Male                                                         4.065372  \n",
       "Other / Non-Disclosed                                        4.562727  "
      ]
     },
     "execution_count": 251,
     "metadata": {},
     "output_type": "execute_result"
    }
   ],
   "source": [
    "print(\"Purchasing Analysis (Gender)\" )\n",
    "print(\"---------------------------------------\" )\n",
    "gender_frame2= {'Purchase Count' : purchase_count ['Item ID'],\n",
    "                'Average Purchase Price':gender_mean['Price'],\n",
    "                'Total Purchase Value': sum_purchase['Price'],\n",
    "                'Average Purchase Total per Person by Age Group': avg_purchase_per_person }\n",
    "gender_result = pd.DataFrame(gender_frame2)\n",
    "gender_result "
   ]
  },
  {
   "cell_type": "code",
   "execution_count": 266,
   "metadata": {},
   "outputs": [
    {
     "data": {
      "text/plain": [
       "Age\n",
       "(0, 10]       24\n",
       "(10, 15]      41\n",
       "(15, 20]     150\n",
       "(20, 25]     232\n",
       "(25, 30]      59\n",
       "(30, 35]      37\n",
       "(35, 40]      26\n",
       "(40, 45]       7\n",
       "(45, 50]       0\n",
       "(50, 55]       0\n",
       "(55, 60]       0\n",
       "(60, 100]      0\n",
       "Name: SN, dtype: int64"
      ]
     },
     "execution_count": 266,
     "metadata": {},
     "output_type": "execute_result"
    }
   ],
   "source": [
    "#(\"Age Demographics\" )\n",
    "#(\"---------------------------------------\" )\n",
    "bins = pd.cut(pymoli['Age'],[0,10,15,20,25,30,35,40,45,50,55,60,100])\n",
    "purch_count_age = pymoli.groupby(bins)['Purchase ID'].count()\n",
    "avg_purch_price = pymoli.groupby(bins)['Price'].mean()\n",
    "tot_purch = pymoli.groupby(bins)['Price'].sum()\n",
    "person_by_age = pymoli.groupby(bins)['SN'].nunique()\n",
    "avg_purc_per_person= tot_purch/person_by_age\n",
    "\n",
    "Age_frame={\"Purchase Count\":purch_count_age,\n",
    "           \"Average Purchase Price\":avg_purch_price,\n",
    "           \"Total Purchase Value\": tot_purch,\n",
    "           \"Average Purchase Total per Person by Age Group\": avg_purc_per_person }\n",
    "person_by_age"
   ]
  },
  {
   "cell_type": "code",
   "execution_count": 267,
   "metadata": {},
   "outputs": [
    {
     "name": "stdout",
     "output_type": "stream",
     "text": [
      "Age Demographics\n",
      "---------------------------------------\n"
     ]
    },
    {
     "data": {
      "text/html": [
       "<div>\n",
       "<style scoped>\n",
       "    .dataframe tbody tr th:only-of-type {\n",
       "        vertical-align: middle;\n",
       "    }\n",
       "\n",
       "    .dataframe tbody tr th {\n",
       "        vertical-align: top;\n",
       "    }\n",
       "\n",
       "    .dataframe thead th {\n",
       "        text-align: right;\n",
       "    }\n",
       "</style>\n",
       "<table border=\"1\" class=\"dataframe\">\n",
       "  <thead>\n",
       "    <tr style=\"text-align: right;\">\n",
       "      <th></th>\n",
       "      <th>Purchase Count</th>\n",
       "      <th>Average Purchase Price</th>\n",
       "      <th>Total Purchase Value</th>\n",
       "      <th>Average Purchase Total per Person by Age Group</th>\n",
       "    </tr>\n",
       "    <tr>\n",
       "      <th>Age</th>\n",
       "      <th></th>\n",
       "      <th></th>\n",
       "      <th></th>\n",
       "      <th></th>\n",
       "    </tr>\n",
       "  </thead>\n",
       "  <tbody>\n",
       "    <tr>\n",
       "      <td>(0, 10]</td>\n",
       "      <td>32</td>\n",
       "      <td>3.405000</td>\n",
       "      <td>108.96</td>\n",
       "      <td>4.540000</td>\n",
       "    </tr>\n",
       "    <tr>\n",
       "      <td>(10, 15]</td>\n",
       "      <td>54</td>\n",
       "      <td>2.900000</td>\n",
       "      <td>156.60</td>\n",
       "      <td>3.819512</td>\n",
       "    </tr>\n",
       "    <tr>\n",
       "      <td>(15, 20]</td>\n",
       "      <td>200</td>\n",
       "      <td>3.107800</td>\n",
       "      <td>621.56</td>\n",
       "      <td>4.143733</td>\n",
       "    </tr>\n",
       "    <tr>\n",
       "      <td>(20, 25]</td>\n",
       "      <td>325</td>\n",
       "      <td>3.020431</td>\n",
       "      <td>981.64</td>\n",
       "      <td>4.231207</td>\n",
       "    </tr>\n",
       "    <tr>\n",
       "      <td>(25, 30]</td>\n",
       "      <td>77</td>\n",
       "      <td>2.875584</td>\n",
       "      <td>221.42</td>\n",
       "      <td>3.752881</td>\n",
       "    </tr>\n",
       "    <tr>\n",
       "      <td>(30, 35]</td>\n",
       "      <td>52</td>\n",
       "      <td>2.994423</td>\n",
       "      <td>155.71</td>\n",
       "      <td>4.208378</td>\n",
       "    </tr>\n",
       "    <tr>\n",
       "      <td>(35, 40]</td>\n",
       "      <td>33</td>\n",
       "      <td>3.404545</td>\n",
       "      <td>112.35</td>\n",
       "      <td>4.321154</td>\n",
       "    </tr>\n",
       "    <tr>\n",
       "      <td>(40, 45]</td>\n",
       "      <td>7</td>\n",
       "      <td>3.075714</td>\n",
       "      <td>21.53</td>\n",
       "      <td>3.075714</td>\n",
       "    </tr>\n",
       "    <tr>\n",
       "      <td>(45, 50]</td>\n",
       "      <td>0</td>\n",
       "      <td>NaN</td>\n",
       "      <td>0.00</td>\n",
       "      <td>NaN</td>\n",
       "    </tr>\n",
       "    <tr>\n",
       "      <td>(50, 55]</td>\n",
       "      <td>0</td>\n",
       "      <td>NaN</td>\n",
       "      <td>0.00</td>\n",
       "      <td>NaN</td>\n",
       "    </tr>\n",
       "    <tr>\n",
       "      <td>(55, 60]</td>\n",
       "      <td>0</td>\n",
       "      <td>NaN</td>\n",
       "      <td>0.00</td>\n",
       "      <td>NaN</td>\n",
       "    </tr>\n",
       "    <tr>\n",
       "      <td>(60, 100]</td>\n",
       "      <td>0</td>\n",
       "      <td>NaN</td>\n",
       "      <td>0.00</td>\n",
       "      <td>NaN</td>\n",
       "    </tr>\n",
       "  </tbody>\n",
       "</table>\n",
       "</div>"
      ],
      "text/plain": [
       "           Purchase Count  Average Purchase Price  Total Purchase Value  \\\n",
       "Age                                                                       \n",
       "(0, 10]                32                3.405000                108.96   \n",
       "(10, 15]               54                2.900000                156.60   \n",
       "(15, 20]              200                3.107800                621.56   \n",
       "(20, 25]              325                3.020431                981.64   \n",
       "(25, 30]               77                2.875584                221.42   \n",
       "(30, 35]               52                2.994423                155.71   \n",
       "(35, 40]               33                3.404545                112.35   \n",
       "(40, 45]                7                3.075714                 21.53   \n",
       "(45, 50]                0                     NaN                  0.00   \n",
       "(50, 55]                0                     NaN                  0.00   \n",
       "(55, 60]                0                     NaN                  0.00   \n",
       "(60, 100]               0                     NaN                  0.00   \n",
       "\n",
       "           Average Purchase Total per Person by Age Group  \n",
       "Age                                                        \n",
       "(0, 10]                                          4.540000  \n",
       "(10, 15]                                         3.819512  \n",
       "(15, 20]                                         4.143733  \n",
       "(20, 25]                                         4.231207  \n",
       "(25, 30]                                         3.752881  \n",
       "(30, 35]                                         4.208378  \n",
       "(35, 40]                                         4.321154  \n",
       "(40, 45]                                         3.075714  \n",
       "(45, 50]                                              NaN  \n",
       "(50, 55]                                              NaN  \n",
       "(55, 60]                                              NaN  \n",
       "(60, 100]                                             NaN  "
      ]
     },
     "execution_count": 267,
     "metadata": {},
     "output_type": "execute_result"
    }
   ],
   "source": [
    "print(\"Age Demographics\" )\n",
    "print(\"---------------------------------------\" )\n",
    "age_result=pd.DataFrame(Age_frame)\n",
    "age_result"
   ]
  },
  {
   "cell_type": "code",
   "execution_count": null,
   "metadata": {},
   "outputs": [],
   "source": []
  },
  {
   "cell_type": "code",
   "execution_count": null,
   "metadata": {},
   "outputs": [],
   "source": []
  }
 ],
 "metadata": {
  "kernelspec": {
   "display_name": "Python 3",
   "language": "python",
   "name": "python3"
  },
  "language_info": {
   "codemirror_mode": {
    "name": "ipython",
    "version": 3
   },
   "file_extension": ".py",
   "mimetype": "text/x-python",
   "name": "python",
   "nbconvert_exporter": "python",
   "pygments_lexer": "ipython3",
   "version": "3.7.4"
  }
 },
 "nbformat": 4,
 "nbformat_minor": 2
}
